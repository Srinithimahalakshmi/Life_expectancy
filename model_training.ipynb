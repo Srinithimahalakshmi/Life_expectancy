{
 "cells": [
  {
   "cell_type": "code",
   "execution_count": 6,
   "id": "4ed348bb",
   "metadata": {},
   "outputs": [
    {
     "name": "stdout",
     "output_type": "stream",
     "text": [
      "✅ DBSCAN clustering complete.\n",
      "📊 Clusters found: {np.int64(0), np.int64(-1)}\n"
     ]
    }
   ],
   "source": [
    "import pandas as pd\n",
    "from sklearn.preprocessing import StandardScaler\n",
    "from sklearn.cluster import DBSCAN\n",
    "import joblib\n",
    "import os\n",
    "\n",
    "# === 1. Load dataset ===\n",
    "df = pd.read_csv(\"life_expectancy.csv\")  # Make sure file exists at this path\n",
    "\n",
    "# === 2. Define and extract numeric columns ===\n",
    "numeric_cols = [\n",
    "    'Sum of Females  Life Expectancy',\n",
    "    'Sum of Life Expectancy  (both sexes)',\n",
    "    'Sum of Males  Life Expectancy'\n",
    "]\n",
    "\n",
    "# Drop rows with missing values\n",
    "data = df[numeric_cols].dropna()\n",
    "\n",
    "# === 3. Scale the data ===\n",
    "scaler = StandardScaler()\n",
    "X_scaled = scaler.fit_transform(data)\n",
    "\n",
    "# === 4. Apply DBSCAN ===\n",
    "db = DBSCAN(eps=0.5, min_samples=3)\n",
    "clusters = db.fit_predict(X_scaled)\n",
    "\n",
    "# === 5. Save the model and scaler ===\n",
    "os.makedirs(\"model\", exist_ok=True)\n",
    "joblib.dump(db, \"model/dbscan_model.joblib\")\n",
    "joblib.dump(scaler, \"model/scaler.joblib\")\n",
    "\n",
    "# === 6. Append cluster labels and save result ===\n",
    "data[\"cluster\"] = clusters\n",
    "os.makedirs(\"data\", exist_ok=True)\n",
    "data.to_csv(\"data/clustered_data.csv\", index=False)\n",
    "\n",
    "print(\"✅ DBSCAN clustering complete.\")\n",
    "print(\"📊 Clusters found:\", set(clusters))\n"
   ]
  }
 ],
 "metadata": {
  "kernelspec": {
   "display_name": "Python 3",
   "language": "python",
   "name": "python3"
  },
  "language_info": {
   "codemirror_mode": {
    "name": "ipython",
    "version": 3
   },
   "file_extension": ".py",
   "mimetype": "text/x-python",
   "name": "python",
   "nbconvert_exporter": "python",
   "pygments_lexer": "ipython3",
   "version": "3.10.9"
  }
 },
 "nbformat": 4,
 "nbformat_minor": 5
}
